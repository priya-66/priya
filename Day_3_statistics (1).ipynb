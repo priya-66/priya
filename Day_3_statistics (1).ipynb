{
 "cells": [
  {
   "cell_type": "markdown",
   "id": "8659a358",
   "metadata": {},
   "source": [
    "# Descriptive statitics "
   ]
  },
  {
   "cell_type": "code",
   "execution_count": 1,
   "id": "5d7b545d",
   "metadata": {},
   "outputs": [],
   "source": [
    "import pandas as pd\n",
    "import numpy as np\n",
    "\n",
    "import seaborn as sns\n",
    "import matplotlib.pyplot as plt\n",
    "\n",
    "import warnings\n",
    "warnings.filterwarnings('ignore')"
   ]
  },
  {
   "cell_type": "code",
   "execution_count": 2,
   "id": "452f176a",
   "metadata": {},
   "outputs": [
    {
     "data": {
      "text/html": [
       "<div>\n",
       "<style scoped>\n",
       "    .dataframe tbody tr th:only-of-type {\n",
       "        vertical-align: middle;\n",
       "    }\n",
       "\n",
       "    .dataframe tbody tr th {\n",
       "        vertical-align: top;\n",
       "    }\n",
       "\n",
       "    .dataframe thead th {\n",
       "        text-align: right;\n",
       "    }\n",
       "</style>\n",
       "<table border=\"1\" class=\"dataframe\">\n",
       "  <thead>\n",
       "    <tr style=\"text-align: right;\">\n",
       "      <th></th>\n",
       "      <th>total_bill</th>\n",
       "      <th>tip</th>\n",
       "      <th>sex</th>\n",
       "      <th>smoker</th>\n",
       "      <th>day</th>\n",
       "      <th>time</th>\n",
       "      <th>size</th>\n",
       "    </tr>\n",
       "  </thead>\n",
       "  <tbody>\n",
       "    <tr>\n",
       "      <th>0</th>\n",
       "      <td>16.99</td>\n",
       "      <td>1.01</td>\n",
       "      <td>Female</td>\n",
       "      <td>No</td>\n",
       "      <td>Sun</td>\n",
       "      <td>Dinner</td>\n",
       "      <td>2</td>\n",
       "    </tr>\n",
       "    <tr>\n",
       "      <th>1</th>\n",
       "      <td>10.34</td>\n",
       "      <td>1.66</td>\n",
       "      <td>Male</td>\n",
       "      <td>No</td>\n",
       "      <td>Sun</td>\n",
       "      <td>Dinner</td>\n",
       "      <td>3</td>\n",
       "    </tr>\n",
       "    <tr>\n",
       "      <th>2</th>\n",
       "      <td>21.01</td>\n",
       "      <td>3.50</td>\n",
       "      <td>Male</td>\n",
       "      <td>No</td>\n",
       "      <td>Sun</td>\n",
       "      <td>Dinner</td>\n",
       "      <td>3</td>\n",
       "    </tr>\n",
       "    <tr>\n",
       "      <th>3</th>\n",
       "      <td>23.68</td>\n",
       "      <td>3.31</td>\n",
       "      <td>Male</td>\n",
       "      <td>No</td>\n",
       "      <td>Sun</td>\n",
       "      <td>Dinner</td>\n",
       "      <td>2</td>\n",
       "    </tr>\n",
       "    <tr>\n",
       "      <th>4</th>\n",
       "      <td>24.59</td>\n",
       "      <td>3.61</td>\n",
       "      <td>Female</td>\n",
       "      <td>No</td>\n",
       "      <td>Sun</td>\n",
       "      <td>Dinner</td>\n",
       "      <td>4</td>\n",
       "    </tr>\n",
       "  </tbody>\n",
       "</table>\n",
       "</div>"
      ],
      "text/plain": [
       "   total_bill   tip     sex smoker  day    time  size\n",
       "0       16.99  1.01  Female     No  Sun  Dinner     2\n",
       "1       10.34  1.66    Male     No  Sun  Dinner     3\n",
       "2       21.01  3.50    Male     No  Sun  Dinner     3\n",
       "3       23.68  3.31    Male     No  Sun  Dinner     2\n",
       "4       24.59  3.61  Female     No  Sun  Dinner     4"
      ]
     },
     "execution_count": 2,
     "metadata": {},
     "output_type": "execute_result"
    }
   ],
   "source": [
    "data=sns.load_dataset('tips')\n",
    "\n",
    "data.head()"
   ]
  },
  {
   "cell_type": "code",
   "execution_count": 3,
   "id": "e4bb9f4a",
   "metadata": {},
   "outputs": [
    {
     "data": {
      "text/html": [
       "<div>\n",
       "<style scoped>\n",
       "    .dataframe tbody tr th:only-of-type {\n",
       "        vertical-align: middle;\n",
       "    }\n",
       "\n",
       "    .dataframe tbody tr th {\n",
       "        vertical-align: top;\n",
       "    }\n",
       "\n",
       "    .dataframe thead th {\n",
       "        text-align: right;\n",
       "    }\n",
       "</style>\n",
       "<table border=\"1\" class=\"dataframe\">\n",
       "  <thead>\n",
       "    <tr style=\"text-align: right;\">\n",
       "      <th></th>\n",
       "      <th>total_bill</th>\n",
       "      <th>tip</th>\n",
       "      <th>sex</th>\n",
       "      <th>smoker</th>\n",
       "      <th>day</th>\n",
       "      <th>time</th>\n",
       "      <th>size</th>\n",
       "    </tr>\n",
       "  </thead>\n",
       "  <tbody>\n",
       "    <tr>\n",
       "      <th>0</th>\n",
       "      <td>16.99</td>\n",
       "      <td>1.01</td>\n",
       "      <td>Female</td>\n",
       "      <td>No</td>\n",
       "      <td>Sun</td>\n",
       "      <td>Dinner</td>\n",
       "      <td>2</td>\n",
       "    </tr>\n",
       "    <tr>\n",
       "      <th>1</th>\n",
       "      <td>10.34</td>\n",
       "      <td>1.66</td>\n",
       "      <td>Male</td>\n",
       "      <td>No</td>\n",
       "      <td>Sun</td>\n",
       "      <td>Dinner</td>\n",
       "      <td>3</td>\n",
       "    </tr>\n",
       "    <tr>\n",
       "      <th>2</th>\n",
       "      <td>21.01</td>\n",
       "      <td>3.50</td>\n",
       "      <td>Male</td>\n",
       "      <td>No</td>\n",
       "      <td>Sun</td>\n",
       "      <td>Dinner</td>\n",
       "      <td>3</td>\n",
       "    </tr>\n",
       "    <tr>\n",
       "      <th>3</th>\n",
       "      <td>23.68</td>\n",
       "      <td>3.31</td>\n",
       "      <td>Male</td>\n",
       "      <td>No</td>\n",
       "      <td>Sun</td>\n",
       "      <td>Dinner</td>\n",
       "      <td>2</td>\n",
       "    </tr>\n",
       "    <tr>\n",
       "      <th>4</th>\n",
       "      <td>24.59</td>\n",
       "      <td>3.61</td>\n",
       "      <td>Female</td>\n",
       "      <td>No</td>\n",
       "      <td>Sun</td>\n",
       "      <td>Dinner</td>\n",
       "      <td>4</td>\n",
       "    </tr>\n",
       "    <tr>\n",
       "      <th>5</th>\n",
       "      <td>25.29</td>\n",
       "      <td>4.71</td>\n",
       "      <td>Male</td>\n",
       "      <td>No</td>\n",
       "      <td>Sun</td>\n",
       "      <td>Dinner</td>\n",
       "      <td>4</td>\n",
       "    </tr>\n",
       "    <tr>\n",
       "      <th>6</th>\n",
       "      <td>8.77</td>\n",
       "      <td>2.00</td>\n",
       "      <td>Male</td>\n",
       "      <td>No</td>\n",
       "      <td>Sun</td>\n",
       "      <td>Dinner</td>\n",
       "      <td>2</td>\n",
       "    </tr>\n",
       "    <tr>\n",
       "      <th>7</th>\n",
       "      <td>26.88</td>\n",
       "      <td>3.12</td>\n",
       "      <td>Male</td>\n",
       "      <td>No</td>\n",
       "      <td>Sun</td>\n",
       "      <td>Dinner</td>\n",
       "      <td>4</td>\n",
       "    </tr>\n",
       "    <tr>\n",
       "      <th>8</th>\n",
       "      <td>15.04</td>\n",
       "      <td>1.96</td>\n",
       "      <td>Male</td>\n",
       "      <td>No</td>\n",
       "      <td>Sun</td>\n",
       "      <td>Dinner</td>\n",
       "      <td>2</td>\n",
       "    </tr>\n",
       "    <tr>\n",
       "      <th>9</th>\n",
       "      <td>14.78</td>\n",
       "      <td>3.23</td>\n",
       "      <td>Male</td>\n",
       "      <td>No</td>\n",
       "      <td>Sun</td>\n",
       "      <td>Dinner</td>\n",
       "      <td>2</td>\n",
       "    </tr>\n",
       "    <tr>\n",
       "      <th>10</th>\n",
       "      <td>10.27</td>\n",
       "      <td>1.71</td>\n",
       "      <td>Male</td>\n",
       "      <td>No</td>\n",
       "      <td>Sun</td>\n",
       "      <td>Dinner</td>\n",
       "      <td>2</td>\n",
       "    </tr>\n",
       "    <tr>\n",
       "      <th>11</th>\n",
       "      <td>35.26</td>\n",
       "      <td>5.00</td>\n",
       "      <td>Female</td>\n",
       "      <td>No</td>\n",
       "      <td>Sun</td>\n",
       "      <td>Dinner</td>\n",
       "      <td>4</td>\n",
       "    </tr>\n",
       "    <tr>\n",
       "      <th>12</th>\n",
       "      <td>15.42</td>\n",
       "      <td>1.57</td>\n",
       "      <td>Male</td>\n",
       "      <td>No</td>\n",
       "      <td>Sun</td>\n",
       "      <td>Dinner</td>\n",
       "      <td>2</td>\n",
       "    </tr>\n",
       "    <tr>\n",
       "      <th>13</th>\n",
       "      <td>18.43</td>\n",
       "      <td>3.00</td>\n",
       "      <td>Male</td>\n",
       "      <td>No</td>\n",
       "      <td>Sun</td>\n",
       "      <td>Dinner</td>\n",
       "      <td>4</td>\n",
       "    </tr>\n",
       "    <tr>\n",
       "      <th>14</th>\n",
       "      <td>14.83</td>\n",
       "      <td>3.02</td>\n",
       "      <td>Female</td>\n",
       "      <td>No</td>\n",
       "      <td>Sun</td>\n",
       "      <td>Dinner</td>\n",
       "      <td>2</td>\n",
       "    </tr>\n",
       "  </tbody>\n",
       "</table>\n",
       "</div>"
      ],
      "text/plain": [
       "    total_bill   tip     sex smoker  day    time  size\n",
       "0        16.99  1.01  Female     No  Sun  Dinner     2\n",
       "1        10.34  1.66    Male     No  Sun  Dinner     3\n",
       "2        21.01  3.50    Male     No  Sun  Dinner     3\n",
       "3        23.68  3.31    Male     No  Sun  Dinner     2\n",
       "4        24.59  3.61  Female     No  Sun  Dinner     4\n",
       "5        25.29  4.71    Male     No  Sun  Dinner     4\n",
       "6         8.77  2.00    Male     No  Sun  Dinner     2\n",
       "7        26.88  3.12    Male     No  Sun  Dinner     4\n",
       "8        15.04  1.96    Male     No  Sun  Dinner     2\n",
       "9        14.78  3.23    Male     No  Sun  Dinner     2\n",
       "10       10.27  1.71    Male     No  Sun  Dinner     2\n",
       "11       35.26  5.00  Female     No  Sun  Dinner     4\n",
       "12       15.42  1.57    Male     No  Sun  Dinner     2\n",
       "13       18.43  3.00    Male     No  Sun  Dinner     4\n",
       "14       14.83  3.02  Female     No  Sun  Dinner     2"
      ]
     },
     "execution_count": 3,
     "metadata": {},
     "output_type": "execute_result"
    }
   ],
   "source": [
    "data.head(15)"
   ]
  },
  {
   "cell_type": "code",
   "execution_count": 4,
   "id": "05e105ab",
   "metadata": {},
   "outputs": [
    {
     "data": {
      "text/html": [
       "<div>\n",
       "<style scoped>\n",
       "    .dataframe tbody tr th:only-of-type {\n",
       "        vertical-align: middle;\n",
       "    }\n",
       "\n",
       "    .dataframe tbody tr th {\n",
       "        vertical-align: top;\n",
       "    }\n",
       "\n",
       "    .dataframe thead th {\n",
       "        text-align: right;\n",
       "    }\n",
       "</style>\n",
       "<table border=\"1\" class=\"dataframe\">\n",
       "  <thead>\n",
       "    <tr style=\"text-align: right;\">\n",
       "      <th></th>\n",
       "      <th>total_bill</th>\n",
       "      <th>tip</th>\n",
       "      <th>sex</th>\n",
       "      <th>smoker</th>\n",
       "      <th>day</th>\n",
       "      <th>time</th>\n",
       "      <th>size</th>\n",
       "    </tr>\n",
       "  </thead>\n",
       "  <tbody>\n",
       "    <tr>\n",
       "      <th>234</th>\n",
       "      <td>15.53</td>\n",
       "      <td>3.00</td>\n",
       "      <td>Male</td>\n",
       "      <td>Yes</td>\n",
       "      <td>Sat</td>\n",
       "      <td>Dinner</td>\n",
       "      <td>2</td>\n",
       "    </tr>\n",
       "    <tr>\n",
       "      <th>235</th>\n",
       "      <td>10.07</td>\n",
       "      <td>1.25</td>\n",
       "      <td>Male</td>\n",
       "      <td>No</td>\n",
       "      <td>Sat</td>\n",
       "      <td>Dinner</td>\n",
       "      <td>2</td>\n",
       "    </tr>\n",
       "    <tr>\n",
       "      <th>236</th>\n",
       "      <td>12.60</td>\n",
       "      <td>1.00</td>\n",
       "      <td>Male</td>\n",
       "      <td>Yes</td>\n",
       "      <td>Sat</td>\n",
       "      <td>Dinner</td>\n",
       "      <td>2</td>\n",
       "    </tr>\n",
       "    <tr>\n",
       "      <th>237</th>\n",
       "      <td>32.83</td>\n",
       "      <td>1.17</td>\n",
       "      <td>Male</td>\n",
       "      <td>Yes</td>\n",
       "      <td>Sat</td>\n",
       "      <td>Dinner</td>\n",
       "      <td>2</td>\n",
       "    </tr>\n",
       "    <tr>\n",
       "      <th>238</th>\n",
       "      <td>35.83</td>\n",
       "      <td>4.67</td>\n",
       "      <td>Female</td>\n",
       "      <td>No</td>\n",
       "      <td>Sat</td>\n",
       "      <td>Dinner</td>\n",
       "      <td>3</td>\n",
       "    </tr>\n",
       "    <tr>\n",
       "      <th>239</th>\n",
       "      <td>29.03</td>\n",
       "      <td>5.92</td>\n",
       "      <td>Male</td>\n",
       "      <td>No</td>\n",
       "      <td>Sat</td>\n",
       "      <td>Dinner</td>\n",
       "      <td>3</td>\n",
       "    </tr>\n",
       "    <tr>\n",
       "      <th>240</th>\n",
       "      <td>27.18</td>\n",
       "      <td>2.00</td>\n",
       "      <td>Female</td>\n",
       "      <td>Yes</td>\n",
       "      <td>Sat</td>\n",
       "      <td>Dinner</td>\n",
       "      <td>2</td>\n",
       "    </tr>\n",
       "    <tr>\n",
       "      <th>241</th>\n",
       "      <td>22.67</td>\n",
       "      <td>2.00</td>\n",
       "      <td>Male</td>\n",
       "      <td>Yes</td>\n",
       "      <td>Sat</td>\n",
       "      <td>Dinner</td>\n",
       "      <td>2</td>\n",
       "    </tr>\n",
       "    <tr>\n",
       "      <th>242</th>\n",
       "      <td>17.82</td>\n",
       "      <td>1.75</td>\n",
       "      <td>Male</td>\n",
       "      <td>No</td>\n",
       "      <td>Sat</td>\n",
       "      <td>Dinner</td>\n",
       "      <td>2</td>\n",
       "    </tr>\n",
       "    <tr>\n",
       "      <th>243</th>\n",
       "      <td>18.78</td>\n",
       "      <td>3.00</td>\n",
       "      <td>Female</td>\n",
       "      <td>No</td>\n",
       "      <td>Thur</td>\n",
       "      <td>Dinner</td>\n",
       "      <td>2</td>\n",
       "    </tr>\n",
       "  </tbody>\n",
       "</table>\n",
       "</div>"
      ],
      "text/plain": [
       "     total_bill   tip     sex smoker   day    time  size\n",
       "234       15.53  3.00    Male    Yes   Sat  Dinner     2\n",
       "235       10.07  1.25    Male     No   Sat  Dinner     2\n",
       "236       12.60  1.00    Male    Yes   Sat  Dinner     2\n",
       "237       32.83  1.17    Male    Yes   Sat  Dinner     2\n",
       "238       35.83  4.67  Female     No   Sat  Dinner     3\n",
       "239       29.03  5.92    Male     No   Sat  Dinner     3\n",
       "240       27.18  2.00  Female    Yes   Sat  Dinner     2\n",
       "241       22.67  2.00    Male    Yes   Sat  Dinner     2\n",
       "242       17.82  1.75    Male     No   Sat  Dinner     2\n",
       "243       18.78  3.00  Female     No  Thur  Dinner     2"
      ]
     },
     "execution_count": 4,
     "metadata": {},
     "output_type": "execute_result"
    }
   ],
   "source": [
    "data.tail(10)"
   ]
  },
  {
   "cell_type": "code",
   "execution_count": 5,
   "id": "d714d30c",
   "metadata": {},
   "outputs": [
    {
     "name": "stdout",
     "output_type": "stream",
     "text": [
      "<class 'pandas.core.frame.DataFrame'>\n",
      "RangeIndex: 244 entries, 0 to 243\n",
      "Data columns (total 7 columns):\n",
      " #   Column      Non-Null Count  Dtype   \n",
      "---  ------      --------------  -----   \n",
      " 0   total_bill  244 non-null    float64 \n",
      " 1   tip         244 non-null    float64 \n",
      " 2   sex         244 non-null    category\n",
      " 3   smoker      244 non-null    category\n",
      " 4   day         244 non-null    category\n",
      " 5   time        244 non-null    category\n",
      " 6   size        244 non-null    int64   \n",
      "dtypes: category(4), float64(2), int64(1)\n",
      "memory usage: 7.1 KB\n"
     ]
    }
   ],
   "source": [
    "data.info()"
   ]
  },
  {
   "cell_type": "code",
   "execution_count": 6,
   "id": "c1624cc4",
   "metadata": {},
   "outputs": [
    {
     "data": {
      "text/plain": [
       "total_bill    19.785943\n",
       "tip            2.998279\n",
       "size           2.569672\n",
       "dtype: float64"
      ]
     },
     "execution_count": 6,
     "metadata": {},
     "output_type": "execute_result"
    }
   ],
   "source": [
    "#mesures of central tendency\n",
    "data.mean()"
   ]
  },
  {
   "cell_type": "code",
   "execution_count": 7,
   "id": "f0280ab1",
   "metadata": {},
   "outputs": [
    {
     "data": {
      "text/plain": [
       "total_bill    17.795\n",
       "tip            2.900\n",
       "size           2.000\n",
       "dtype: float64"
      ]
     },
     "execution_count": 7,
     "metadata": {},
     "output_type": "execute_result"
    }
   ],
   "source": [
    "#median\n",
    "data.median()"
   ]
  },
  {
   "cell_type": "code",
   "execution_count": 8,
   "id": "68405d60",
   "metadata": {},
   "outputs": [
    {
     "data": {
      "text/html": [
       "<div>\n",
       "<style scoped>\n",
       "    .dataframe tbody tr th:only-of-type {\n",
       "        vertical-align: middle;\n",
       "    }\n",
       "\n",
       "    .dataframe tbody tr th {\n",
       "        vertical-align: top;\n",
       "    }\n",
       "\n",
       "    .dataframe thead th {\n",
       "        text-align: right;\n",
       "    }\n",
       "</style>\n",
       "<table border=\"1\" class=\"dataframe\">\n",
       "  <thead>\n",
       "    <tr style=\"text-align: right;\">\n",
       "      <th></th>\n",
       "      <th>total_bill</th>\n",
       "      <th>tip</th>\n",
       "      <th>sex</th>\n",
       "      <th>smoker</th>\n",
       "      <th>day</th>\n",
       "      <th>time</th>\n",
       "      <th>size</th>\n",
       "    </tr>\n",
       "  </thead>\n",
       "  <tbody>\n",
       "    <tr>\n",
       "      <th>0</th>\n",
       "      <td>13.42</td>\n",
       "      <td>2.0</td>\n",
       "      <td>Male</td>\n",
       "      <td>No</td>\n",
       "      <td>Sat</td>\n",
       "      <td>Dinner</td>\n",
       "      <td>2</td>\n",
       "    </tr>\n",
       "  </tbody>\n",
       "</table>\n",
       "</div>"
      ],
      "text/plain": [
       "   total_bill  tip   sex smoker  day    time  size\n",
       "0       13.42  2.0  Male     No  Sat  Dinner     2"
      ]
     },
     "execution_count": 8,
     "metadata": {},
     "output_type": "execute_result"
    }
   ],
   "source": [
    "#mode\n",
    "\n",
    "data.mode()"
   ]
  },
  {
   "cell_type": "code",
   "execution_count": 9,
   "id": "f0f41f4d",
   "metadata": {},
   "outputs": [
    {
     "data": {
      "text/plain": [
       "total_bill    1.133213\n",
       "tip           1.465451\n",
       "size          1.447882\n",
       "dtype: float64"
      ]
     },
     "execution_count": 9,
     "metadata": {},
     "output_type": "execute_result"
    }
   ],
   "source": [
    "#skewness \n",
    "data.skew()"
   ]
  },
  {
   "cell_type": "code",
   "execution_count": 10,
   "id": "aa33de9b",
   "metadata": {},
   "outputs": [
    {
     "name": "stdout",
     "output_type": "stream",
     "text": [
      "AxesSubplot(0.125,0.125;0.775x0.755)\n"
     ]
    },
    {
     "data": {
      "image/png": "[encoded data removed]",
      "text/plain": [
       "<Figure size 432x288 with 1 Axes>"
      ]
     },
     "metadata": {
      "needs_background": "light"
     },
     "output_type": "display_data"
    }
   ],
   "source": [
    "print(sns.distplot(data['total_bill']))"
   ]
  },
  {
   "cell_type": "code",
   "execution_count": 11,
   "id": "4699e9ae",
   "metadata": {},
   "outputs": [
    {
     "name": "stdout",
     "output_type": "stream",
     "text": [
      "AxesSubplot(0.125,0.125;0.775x0.755)\n"
     ]
    },
    {
     "data": {
      "image/png": "[encoded data removed]",
      "text/plain": [
       "<Figure size 432x288 with 1 Axes>"
      ]
     },
     "metadata": {
      "needs_background": "light"
     },
     "output_type": "display_data"
    }
   ],
   "source": [
    "print(sns.distplot(data['tip']))"
   ]
  },
  {
   "cell_type": "code",
   "execution_count": 12,
   "id": "230bc0dc",
   "metadata": {},
   "outputs": [
    {
     "name": "stdout",
     "output_type": "stream",
     "text": [
      "AxesSubplot(0.125,0.125;0.775x0.755)\n"
     ]
    },
    {
     "data": {
      "image/png": "[encoded data removed]",
      "text/plain": [
       "<Figure size 432x288 with 1 Axes>"
      ]
     },
     "metadata": {
      "needs_background": "light"
     },
     "output_type": "display_data"
    }
   ],
   "source": [
    "print(sns.distplot(data['size']))"
   ]
  },
  {
   "cell_type": "code",
   "execution_count": 13,
   "id": "235f38cd",
   "metadata": {},
   "outputs": [
    {
     "data": {
      "text/plain": [
       "total_bill    1.218484\n",
       "tip           3.648376\n",
       "size          1.731700\n",
       "dtype: float64"
      ]
     },
     "execution_count": 13,
     "metadata": {},
     "output_type": "execute_result"
    }
   ],
   "source": [
    "#kutosis\n",
    "\n",
    "data.kurt()"
   ]
  },
  {
   "cell_type": "code",
   "execution_count": 14,
   "id": "3b192065",
   "metadata": {},
   "outputs": [
    {
     "data": {
      "text/plain": [
       "total_bill    79.252939\n",
       "tip            1.914455\n",
       "size           0.904591\n",
       "dtype: float64"
      ]
     },
     "execution_count": 14,
     "metadata": {},
     "output_type": "execute_result"
    }
   ],
   "source": [
    "#var \n",
    "data.var()"
   ]
  },
  {
   "cell_type": "code",
   "execution_count": 15,
   "id": "66710b67",
   "metadata": {},
   "outputs": [
    {
     "data": {
      "text/plain": [
       "total_bill    8.902412\n",
       "tip           1.383638\n",
       "size          0.951100\n",
       "dtype: float64"
      ]
     },
     "execution_count": 15,
     "metadata": {},
     "output_type": "execute_result"
    }
   ],
   "source": [
    "data.std()"
   ]
  },
  {
   "cell_type": "markdown",
   "id": "61c01453",
   "metadata": {},
   "source": [
    "# range"
   ]
  },
  {
   "cell_type": "code",
   "execution_count": 16,
   "id": "a25740b7",
   "metadata": {},
   "outputs": [
    {
     "data": {
      "text/plain": [
       "total_bill    50.81\n",
       "tip           10.00\n",
       "size           6.00\n",
       "dtype: float64"
      ]
     },
     "execution_count": 16,
     "metadata": {},
     "output_type": "execute_result"
    }
   ],
   "source": [
    "data.max()"
   ]
  },
  {
   "cell_type": "code",
   "execution_count": 17,
   "id": "051273a2",
   "metadata": {},
   "outputs": [
    {
     "data": {
      "text/plain": [
       "total_bill    3.07\n",
       "tip           1.00\n",
       "size          1.00\n",
       "dtype: float64"
      ]
     },
     "execution_count": 17,
     "metadata": {},
     "output_type": "execute_result"
    }
   ],
   "source": [
    "data.min()"
   ]
  },
  {
   "cell_type": "code",
   "execution_count": 18,
   "id": "cbf30bf1",
   "metadata": {},
   "outputs": [
    {
     "data": {
      "text/plain": [
       "total_bill    47.74\n",
       "tip            9.00\n",
       "size           5.00\n",
       "dtype: float64"
      ]
     },
     "execution_count": 18,
     "metadata": {},
     "output_type": "execute_result"
    }
   ],
   "source": [
    "rng=data.max()-data.min()\n",
    "rng"
   ]
  },
  {
   "cell_type": "markdown",
   "id": "8d450d66",
   "metadata": {},
   "source": [
    "# IQR "
   ]
  },
  {
   "cell_type": "code",
   "execution_count": 19,
   "id": "24189d02",
   "metadata": {},
   "outputs": [
    {
     "data": {
      "text/plain": [
       "0.75    3.5625\n",
       "0.25    2.0000\n",
       "Name: tip, dtype: float64"
      ]
     },
     "execution_count": 19,
     "metadata": {},
     "output_type": "execute_result"
    }
   ],
   "source": [
    "quantile=data['tip'].quantile(q=[0.75,0.25])\n",
    "\n",
    "quantile"
   ]
  },
  {
   "cell_type": "code",
   "execution_count": 20,
   "id": "c29f6bbc",
   "metadata": {},
   "outputs": [
    {
     "data": {
      "text/plain": [
       "<AxesSubplot:xlabel='tip'>"
      ]
     },
     "execution_count": 20,
     "metadata": {},
     "output_type": "execute_result"
    },
    {
     "data": {
      "image/png": "[encoded data removed]",
      "text/plain": [
       "<Figure size 432x288 with 1 Axes>"
      ]
     },
     "metadata": {
      "needs_background": "light"
     },
     "output_type": "display_data"
    }
   ],
   "source": [
    "sns.boxplot(data['tip'])"
   ]
  },
  {
   "cell_type": "code",
   "execution_count": 21,
   "id": "5a1ad5aa",
   "metadata": {},
   "outputs": [
    {
     "data": {
      "text/plain": [
       "0.75    3.0\n",
       "0.25    2.0\n",
       "Name: size, dtype: float64"
      ]
     },
     "execution_count": 21,
     "metadata": {},
     "output_type": "execute_result"
    }
   ],
   "source": [
    "quantile=data['size'].quantile(q=[0.75,0.25])\n",
    "\n",
    "quantile"
   ]
  },
  {
   "cell_type": "code",
   "execution_count": 22,
   "id": "566b0e98",
   "metadata": {},
   "outputs": [
    {
     "data": {
      "text/plain": [
       "<AxesSubplot:xlabel='size'>"
      ]
     },
     "execution_count": 22,
     "metadata": {},
     "output_type": "execute_result"
    },
    {
     "data": {
      "image/png": "[encoded data removed]",
      "text/plain": [
       "<Figure size 432x288 with 1 Axes>"
      ]
     },
     "metadata": {
      "needs_background": "light"
     },
     "output_type": "display_data"
    }
   ],
   "source": [
    "sns.boxplot(data['size'])"
   ]
  },
  {
   "cell_type": "code",
   "execution_count": 23,
   "id": "05bc770b",
   "metadata": {},
   "outputs": [
    {
     "data": {
      "text/html": [
       "<div>\n",
       "<style scoped>\n",
       "    .dataframe tbody tr th:only-of-type {\n",
       "        vertical-align: middle;\n",
       "    }\n",
       "\n",
       "    .dataframe tbody tr th {\n",
       "        vertical-align: top;\n",
       "    }\n",
       "\n",
       "    .dataframe thead th {\n",
       "        text-align: right;\n",
       "    }\n",
       "</style>\n",
       "<table border=\"1\" class=\"dataframe\">\n",
       "  <thead>\n",
       "    <tr style=\"text-align: right;\">\n",
       "      <th></th>\n",
       "      <th>total_bill</th>\n",
       "      <th>tip</th>\n",
       "      <th>size</th>\n",
       "    </tr>\n",
       "  </thead>\n",
       "  <tbody>\n",
       "    <tr>\n",
       "      <th>0.75</th>\n",
       "      <td>24.1275</td>\n",
       "      <td>3.5625</td>\n",
       "      <td>3.0</td>\n",
       "    </tr>\n",
       "    <tr>\n",
       "      <th>0.25</th>\n",
       "      <td>13.3475</td>\n",
       "      <td>2.0000</td>\n",
       "      <td>2.0</td>\n",
       "    </tr>\n",
       "  </tbody>\n",
       "</table>\n",
       "</div>"
      ],
      "text/plain": [
       "      total_bill     tip  size\n",
       "0.75     24.1275  3.5625   3.0\n",
       "0.25     13.3475  2.0000   2.0"
      ]
     },
     "execution_count": 23,
     "metadata": {},
     "output_type": "execute_result"
    }
   ],
   "source": [
    "#IQR\n",
    "quantile=data.quantile(q=[0.75,0.25])\n",
    "\n",
    "quantile"
   ]
  },
  {
   "cell_type": "code",
   "execution_count": 24,
   "id": "3ad9748b",
   "metadata": {},
   "outputs": [
    {
     "data": {
      "text/plain": [
       "total_bill    24.1275\n",
       "tip            3.5625\n",
       "size           3.0000\n",
       "Name: 0.75, dtype: float64"
      ]
     },
     "execution_count": 24,
     "metadata": {},
     "output_type": "execute_result"
    }
   ],
   "source": [
    "#retrive \n",
    "quantile.iloc[0]"
   ]
  },
  {
   "cell_type": "code",
   "execution_count": 25,
   "id": "f608287d",
   "metadata": {},
   "outputs": [
    {
     "data": {
      "text/plain": [
       "total_bill    13.3475\n",
       "tip            2.0000\n",
       "size           2.0000\n",
       "Name: 0.25, dtype: float64"
      ]
     },
     "execution_count": 25,
     "metadata": {},
     "output_type": "execute_result"
    }
   ],
   "source": [
    "quantile.iloc[1]"
   ]
  },
  {
   "cell_type": "code",
   "execution_count": 26,
   "id": "e0086145",
   "metadata": {},
   "outputs": [
    {
     "data": {
      "text/plain": [
       "total_bill    10.7800\n",
       "tip            1.5625\n",
       "size           1.0000\n",
       "dtype: float64"
      ]
     },
     "execution_count": 26,
     "metadata": {},
     "output_type": "execute_result"
    }
   ],
   "source": [
    "#IQR \n",
    "\n",
    "IQR=quantile.iloc[0]-quantile.iloc[1]\n",
    "\n",
    "IQR"
   ]
  },
  {
   "cell_type": "code",
   "execution_count": 27,
   "id": "8dfe977e",
   "metadata": {},
   "outputs": [
    {
     "data": {
      "text/plain": [
       "total_bill    40.29750\n",
       "tip            5.90625\n",
       "size           4.50000\n",
       "dtype: float64"
      ]
     },
     "execution_count": 27,
     "metadata": {},
     "output_type": "execute_result"
    }
   ],
   "source": [
    "#Q3+1.5IQR\n",
    "\n",
    "upper_limit=quantile.iloc[0]+(1.5*IQR)\n",
    "\n",
    "upper_limit"
   ]
  },
  {
   "cell_type": "code",
   "execution_count": 28,
   "id": "17b4313f",
   "metadata": {},
   "outputs": [
    {
     "data": {
      "text/plain": [
       "total_bill   -2.82250\n",
       "tip          -0.34375\n",
       "size          0.50000\n",
       "dtype: float64"
      ]
     },
     "execution_count": 28,
     "metadata": {},
     "output_type": "execute_result"
    }
   ],
   "source": [
    "# q1-1.5IQR\n",
    "lower_limit=quantile.iloc[1]-(1.5*IQR)\n",
    "\n",
    "lower_limit"
   ]
  },
  {
   "cell_type": "code",
   "execution_count": 29,
   "id": "d954379f",
   "metadata": {},
   "outputs": [
    {
     "data": {
      "text/html": [
       "<div>\n",
       "<style scoped>\n",
       "    .dataframe tbody tr th:only-of-type {\n",
       "        vertical-align: middle;\n",
       "    }\n",
       "\n",
       "    .dataframe tbody tr th {\n",
       "        vertical-align: top;\n",
       "    }\n",
       "\n",
       "    .dataframe thead th {\n",
       "        text-align: right;\n",
       "    }\n",
       "</style>\n",
       "<table border=\"1\" class=\"dataframe\">\n",
       "  <thead>\n",
       "    <tr style=\"text-align: right;\">\n",
       "      <th></th>\n",
       "      <th>total_bill</th>\n",
       "      <th>tip</th>\n",
       "      <th>sex</th>\n",
       "      <th>smoker</th>\n",
       "      <th>day</th>\n",
       "      <th>time</th>\n",
       "      <th>size</th>\n",
       "    </tr>\n",
       "  </thead>\n",
       "  <tbody>\n",
       "    <tr>\n",
       "      <th>0</th>\n",
       "      <td>16.99</td>\n",
       "      <td>1.01</td>\n",
       "      <td>Female</td>\n",
       "      <td>No</td>\n",
       "      <td>Sun</td>\n",
       "      <td>Dinner</td>\n",
       "      <td>2</td>\n",
       "    </tr>\n",
       "    <tr>\n",
       "      <th>1</th>\n",
       "      <td>10.34</td>\n",
       "      <td>1.66</td>\n",
       "      <td>Male</td>\n",
       "      <td>No</td>\n",
       "      <td>Sun</td>\n",
       "      <td>Dinner</td>\n",
       "      <td>3</td>\n",
       "    </tr>\n",
       "    <tr>\n",
       "      <th>2</th>\n",
       "      <td>21.01</td>\n",
       "      <td>3.50</td>\n",
       "      <td>Male</td>\n",
       "      <td>No</td>\n",
       "      <td>Sun</td>\n",
       "      <td>Dinner</td>\n",
       "      <td>3</td>\n",
       "    </tr>\n",
       "    <tr>\n",
       "      <th>3</th>\n",
       "      <td>23.68</td>\n",
       "      <td>3.31</td>\n",
       "      <td>Male</td>\n",
       "      <td>No</td>\n",
       "      <td>Sun</td>\n",
       "      <td>Dinner</td>\n",
       "      <td>2</td>\n",
       "    </tr>\n",
       "    <tr>\n",
       "      <th>4</th>\n",
       "      <td>24.59</td>\n",
       "      <td>3.61</td>\n",
       "      <td>Female</td>\n",
       "      <td>No</td>\n",
       "      <td>Sun</td>\n",
       "      <td>Dinner</td>\n",
       "      <td>4</td>\n",
       "    </tr>\n",
       "  </tbody>\n",
       "</table>\n",
       "</div>"
      ],
      "text/plain": [
       "   total_bill   tip     sex smoker  day    time  size\n",
       "0       16.99  1.01  Female     No  Sun  Dinner     2\n",
       "1       10.34  1.66    Male     No  Sun  Dinner     3\n",
       "2       21.01  3.50    Male     No  Sun  Dinner     3\n",
       "3       23.68  3.31    Male     No  Sun  Dinner     2\n",
       "4       24.59  3.61  Female     No  Sun  Dinner     4"
      ]
     },
     "execution_count": 29,
     "metadata": {},
     "output_type": "execute_result"
    }
   ],
   "source": [
    "data.head()"
   ]
  },
  {
   "cell_type": "code",
   "execution_count": 30,
   "id": "5a51e2e6",
   "metadata": {},
   "outputs": [
    {
     "data": {
      "text/html": [
       "<div>\n",
       "<style scoped>\n",
       "    .dataframe tbody tr th:only-of-type {\n",
       "        vertical-align: middle;\n",
       "    }\n",
       "\n",
       "    .dataframe tbody tr th {\n",
       "        vertical-align: top;\n",
       "    }\n",
       "\n",
       "    .dataframe thead th {\n",
       "        text-align: right;\n",
       "    }\n",
       "</style>\n",
       "<table border=\"1\" class=\"dataframe\">\n",
       "  <thead>\n",
       "    <tr style=\"text-align: right;\">\n",
       "      <th></th>\n",
       "      <th>total_bill</th>\n",
       "      <th>tip</th>\n",
       "    </tr>\n",
       "  </thead>\n",
       "  <tbody>\n",
       "    <tr>\n",
       "      <th>0</th>\n",
       "      <td>16.99</td>\n",
       "      <td>1.01</td>\n",
       "    </tr>\n",
       "    <tr>\n",
       "      <th>1</th>\n",
       "      <td>10.34</td>\n",
       "      <td>1.66</td>\n",
       "    </tr>\n",
       "    <tr>\n",
       "      <th>2</th>\n",
       "      <td>21.01</td>\n",
       "      <td>3.50</td>\n",
       "    </tr>\n",
       "    <tr>\n",
       "      <th>3</th>\n",
       "      <td>23.68</td>\n",
       "      <td>3.31</td>\n",
       "    </tr>\n",
       "    <tr>\n",
       "      <th>4</th>\n",
       "      <td>24.59</td>\n",
       "      <td>3.61</td>\n",
       "    </tr>\n",
       "  </tbody>\n",
       "</table>\n",
       "</div>"
      ],
      "text/plain": [
       "   total_bill   tip\n",
       "0       16.99  1.01\n",
       "1       10.34  1.66\n",
       "2       21.01  3.50\n",
       "3       23.68  3.31\n",
       "4       24.59  3.61"
      ]
     },
     "execution_count": 30,
     "metadata": {},
     "output_type": "execute_result"
    }
   ],
   "source": [
    "#\n",
    "x=data[['total_bill','tip']]\n",
    "x.head()"
   ]
  },
  {
   "cell_type": "code",
   "execution_count": 31,
   "id": "8180226a",
   "metadata": {},
   "outputs": [],
   "source": [
    "from sklearn.preprocessing import StandardScaler"
   ]
  },
  {
   "cell_type": "code",
   "execution_count": 32,
   "id": "a3f2335c",
   "metadata": {},
   "outputs": [],
   "source": [
    "scale=StandardScaler()"
   ]
  },
  {
   "cell_type": "code",
   "execution_count": 33,
   "id": "aba79bba",
   "metadata": {},
   "outputs": [
    {
     "data": {
      "text/plain": [
       "array([[-3.14711305e-01, -1.43994695e+00],\n",
       "       [-1.06323531e+00, -9.69205340e-01],\n",
       "       [ 1.37779900e-01,  3.63355539e-01],\n",
       "       [ 4.38315103e-01,  2.25754144e-01],\n",
       "       [ 5.40744704e-01,  4.43019505e-01],\n",
       "       [ 6.19536705e-01,  1.23965916e+00],\n",
       "       [-1.23995452e+00, -7.22971264e-01],\n",
       "       [ 7.98507107e-01,  8.81527488e-02],\n",
       "       [-5.34203307e-01, -7.51939979e-01],\n",
       "       [-5.63468908e-01,  1.67816714e-01],\n",
       "       [-1.07111451e+00, -9.32994446e-01],\n",
       "       [ 1.74175992e+00,  1.44968234e+00],\n",
       "       [-4.91430507e-01, -1.03438495e+00],\n",
       "       [-1.52624903e-01,  1.24660453e-03],\n",
       "       [-5.57840908e-01,  1.57309619e-02],\n",
       "       [ 2.01939101e-01,  6.67527044e-01],\n",
       "       [-1.06436091e+00, -9.61963161e-01],\n",
       "       [-3.93503306e-01,  5.15441291e-01],\n",
       "       [-3.16962505e-01,  3.63355539e-01],\n",
       "       [ 9.72582994e-02,  2.54722859e-01],\n",
       "       [-2.10030504e-01,  7.83401903e-01],\n",
       "       [ 5.67366990e-02, -1.79807863e-01],\n",
       "       [-4.52034507e-01, -5.56401155e-01],\n",
       "       [ 2.21000952e+00,  3.31816444e+00],\n",
       "       [ 3.83349840e-03,  1.31605821e-01],\n",
       "       [-2.22412104e-01, -4.76737189e-01],\n",
       "       [-7.22178510e-01, -7.22971264e-01],\n",
       "       [-7.98719310e-01, -7.22971264e-01],\n",
       "       [ 2.15446301e-01,  9.42729834e-01],\n",
       "       [-1.53017018e-02,  1.24660453e-03],\n",
       "       [-1.15215771e+00, -1.12129109e+00],\n",
       "       [-1.61629703e-01, -3.60862330e-01],\n",
       "       [-5.31952107e-01,  1.24660453e-03],\n",
       "       [ 1.01760699e-01, -3.97073223e-01],\n",
       "       [-2.25788904e-01,  1.96785429e-01],\n",
       "       [ 4.81087904e-01,  4.35777326e-01],\n",
       "       [-3.91252106e-01, -7.22971264e-01],\n",
       "       [-3.21464905e-01,  5.19418554e-02],\n",
       "       [-1.23359303e-01, -4.98463725e-01],\n",
       "       [ 1.29264551e+00,  1.44968234e+00],\n",
       "       [-4.21643306e-01, -5.49158976e-01],\n",
       "       [-2.61808105e-01, -3.31893615e-01],\n",
       "       [-6.58019309e-01,  4.46996767e-02],\n",
       "       [-1.13752491e+00, -1.21543942e+00],\n",
       "       [ 1.19471831e+00,  1.88421306e+00],\n",
       "       [-1.68383303e-01,  1.24660453e-03],\n",
       "       [ 2.75103101e-01,  1.44968234e+00],\n",
       "       [ 1.41983831e+00,  2.17390021e+00],\n",
       "       [ 9.86482309e-01, -6.86760371e-01],\n",
       "       [-1.96523304e-01,  1.24660453e-03],\n",
       "       [-8.15603311e-01, -3.60862330e-01],\n",
       "       [-1.06886331e+00, -2.88440543e-01],\n",
       "       [ 1.69110792e+00,  1.59452592e+00],\n",
       "       [-1.10825931e+00, -1.04162713e+00],\n",
       "       [ 6.49927905e-01,  9.71698549e-01],\n",
       "       [-3.33113020e-02,  3.70597718e-01],\n",
       "       [ 2.05129992e+00,  1.24660453e-03],\n",
       "       [ 7.45603907e-01, -1.08508020e+00],\n",
       "       [-9.61931312e-01, -8.96783553e-01],\n",
       "       [ 3.20616553e+00,  2.70257926e+00],\n",
       "       [ 5.67366990e-02,  1.53332357e-01],\n",
       "       [-6.72652109e-01, -7.22971264e-01],\n",
       "       [-9.86694512e-01, -7.37455622e-01],\n",
       "       [-1.68383303e-01,  5.51652185e-01],\n",
       "       [-2.47175304e-01, -2.59471828e-01],\n",
       "       [ 3.30990987e-02,  1.09879285e-01],\n",
       "       [-3.75493706e-01, -3.82588866e-01],\n",
       "       [-1.88154652e+00, -1.44718913e+00],\n",
       "       [ 4.99830989e-02, -7.15729086e-01],\n",
       "       [-5.37580108e-01, -6.57791656e-01],\n",
       "       [-8.74134511e-01, -7.44697800e-01],\n",
       "       [-3.05706505e-01,  1.24660453e-03],\n",
       "       [ 7.96255907e-01,  1.02637106e-01],\n",
       "       [ 6.18411105e-01,  1.44968234e+00],\n",
       "       [-5.69096908e-01, -5.78127691e-01],\n",
       "       [-1.04410011e+00, -1.26613467e+00],\n",
       "       [-2.10030504e-01,  5.91840340e-02],\n",
       "       [ 8.34526308e-01,  7.25464473e-01],\n",
       "       [ 3.34759902e-01,  1.24660453e-03],\n",
       "       [-2.80943305e-01, -2.08776577e-01],\n",
       "       [-3.89393021e-02,  1.24660453e-03],\n",
       "       [-3.51856105e-01,  2.90933752e-01],\n",
       "       [-1.09362651e+00, -8.46088302e-01],\n",
       "       [ 1.45135511e+00,  1.44968234e+00],\n",
       "       [-4.28396906e-01, -7.01244728e-01],\n",
       "       [ 1.69335912e+00,  1.57279938e+00],\n",
       "       [-7.60448910e-01, -7.22971264e-01],\n",
       "       [-1.69508903e-01,  7.25464473e-01],\n",
       "       [ 5.54251904e-01,  2.06526753e+00],\n",
       "       [ 1.54663900e-01,  1.24660453e-03],\n",
       "       [ 1.03375751e+00,  1.24660453e-03],\n",
       "       [ 3.04368702e-01,  3.63355539e-01],\n",
       "       [-1.57988572e+00, -1.44718913e+00],\n",
       "       [-3.90126506e-01,  9.42729834e-01],\n",
       "       [ 3.33634302e-01,  1.82301072e-01],\n",
       "       [ 2.29442952e+00,  1.25414352e+00],\n",
       "       [ 8.43531108e-01,  7.25464473e-01],\n",
       "       [-8.73008911e-01, -1.08508020e+00],\n",
       "       [ 1.37779900e-01,  1.24660453e-03],\n",
       "       [-8.24608111e-01, -1.08508020e+00],\n",
       "       [-9.49549712e-01, -3.60862330e-01],\n",
       "       [-4.95932907e-01,  1.24660453e-03],\n",
       "       [ 2.75930233e+00, -3.60862330e-01],\n",
       "       [ 2.96489502e-01,  3.48871182e-01],\n",
       "       [ 1.27649500e-01,  7.83401903e-01],\n",
       "       [-4.98184107e-01, -9.83689697e-01],\n",
       "       [ 7.92486992e-02,  7.68917546e-01],\n",
       "       [ 6.10531905e-01,  9.35487655e-01],\n",
       "       [-1.74011304e-01,  5.51652185e-01],\n",
       "       [-6.16372108e-01,  7.25464473e-01],\n",
       "       [-6.51265709e-01,  1.24660453e-03],\n",
       "       [-1.41104572e+00, -1.44718913e+00],\n",
       "       [ 2.05805352e+00,  7.25464473e-01],\n",
       "       [ 4.68706304e-01, -3.24651436e-01],\n",
       "       [ 6.66811906e-01,  7.25464473e-01],\n",
       "       [-2.78692105e-01,  3.63355539e-01],\n",
       "       [ 1.14181511e+00,  1.50037759e+00],\n",
       "       [-1.02834171e+00, -1.08508020e+00],\n",
       "       [-8.27984911e-01, -8.67814838e-01],\n",
       "       [ 4.83339104e-01, -5.66908250e-02],\n",
       "       [-9.11279312e-01, -4.98463725e-01],\n",
       "       [-7.16550509e-01, -9.54720982e-01],\n",
       "       [-6.22000108e-01, -3.60862330e-01],\n",
       "       [-4.31773706e-01, -7.22971264e-01],\n",
       "       [-8.22356911e-01, -3.46377973e-01],\n",
       "       [ 1.12718231e+00,  8.70308047e-01],\n",
       "       [-1.26809452e+00, -1.09956456e+00],\n",
       "       [-5.92734508e-01, -7.22971264e-01],\n",
       "       [-9.46172912e-01, -7.22971264e-01],\n",
       "       [ 3.41513502e-01, -5.92612048e-01],\n",
       "       [-7.94609025e-02, -1.08508020e+00],\n",
       "       [ 5.44854990e-02, -1.21870433e-01],\n",
       "       [-9.69810512e-01, -1.08508020e+00],\n",
       "       [-8.47120111e-01, -7.22971264e-01],\n",
       "       [-1.71760104e-01,  1.82301072e-01],\n",
       "       [-1.26922012e+00, -1.26613467e+00],\n",
       "       [-1.06436091e+00, -7.22971264e-01],\n",
       "       [-6.34381709e-01, -7.22971264e-01],\n",
       "       [-4.26145706e-01, -7.22971264e-01],\n",
       "       [-7.45816110e-01, -1.79807863e-01],\n",
       "       [-2.60682504e-01,  3.63355539e-01],\n",
       "       [ 1.63370232e+00,  2.68085272e+00],\n",
       "       [ 2.40924072e+00,  1.44968234e+00],\n",
       "       [ 8.17642307e-01,  1.44968234e+00],\n",
       "       [-3.77744906e-01, -5.05705904e-01],\n",
       "       [-1.28722972e+00, -1.08508020e+00],\n",
       "       [-1.28987303e-01, -1.18647070e+00],\n",
       "       [-8.91018511e-01, -9.90931876e-01],\n",
       "       [-1.12626891e+00, -9.18510089e-01],\n",
       "       [-1.38178012e+00, -7.22971264e-01],\n",
       "       [-6.43386509e-01, -3.60862330e-01],\n",
       "       [-7.49192910e-01, -7.22971264e-01],\n",
       "       [-2.84320105e-01, -1.87050041e-01],\n",
       "       [ 5.36242304e-01, -7.22971264e-01],\n",
       "       [-1.79450166e-03, -7.22971264e-01],\n",
       "       [ 1.13281031e+00,  1.55107284e+00],\n",
       "       [ 3.19490953e+00,  1.44968234e+00],\n",
       "       [ 5.86894305e-01,  5.44410006e-01],\n",
       "       [-7.19927310e-01, -2.81198364e-01],\n",
       "       [-3.70991306e-01, -7.22971264e-01],\n",
       "       [ 1.92934300e-01,  3.63355539e-01],\n",
       "       [-8.02096110e-01, -3.60862330e-01],\n",
       "       [-4.02508106e-01, -7.22971264e-01],\n",
       "       [-6.72652109e-01, -7.22971264e-01],\n",
       "       [-2.56180104e-01,  1.24660453e-03],\n",
       "       [ 5.32865504e-01,  3.48871182e-01],\n",
       "       [ 1.09639900e-01, -5.49158976e-01],\n",
       "       [ 1.34217191e+00,  1.08757341e+00],\n",
       "       [-1.03509531e+00, -1.00541623e+00],\n",
       "       [-1.03059291e+00, -7.22971264e-01],\n",
       "       [ 3.49206794e+00,  5.07077169e+00],\n",
       "       [-4.47532107e-01,  1.17121464e-01],\n",
       "       [-1.41104572e+00,  1.55831502e+00],\n",
       "       [ 1.35793031e+00,  1.31605821e-01],\n",
       "       [-3.33846505e-01,  7.25464473e-01],\n",
       "       [ 1.47611831e+00,  8.09105701e-02],\n",
       "       [-2.13407304e-01, -7.22971264e-01],\n",
       "       [-5.97236908e-01, -7.22971264e-01],\n",
       "       [-1.14652971e+00,  7.25464473e-01],\n",
       "       [ 1.67084712e+00,  3.99566432e-01],\n",
       "       [ 1.67309832e+00,  4.93714755e-01],\n",
       "       [ 3.98919103e-01,  1.92042396e+00],\n",
       "       [ 2.87749033e+00,  3.63355539e-01],\n",
       "       [ 3.80909503e-01,  2.53600915e+00],\n",
       "       [ 2.33720232e+00,  1.24660453e-03],\n",
       "       [ 1.01760699e-01,  1.44968234e+00],\n",
       "       [ 1.25398300e-01,  3.63355539e-01],\n",
       "       [ 1.20147191e+00, -7.22971264e-01],\n",
       "       [-1.84141704e-01,  3.63355539e-01],\n",
       "       [ 3.73030302e-01,  7.25464473e-01],\n",
       "       [-4.61039307e-01, -1.08508020e+00],\n",
       "       [ 2.70789839e-03,  8.63065869e-01],\n",
       "       [ 9.74100709e-01, -3.17409258e-01],\n",
       "       [-4.84676907e-01, -7.08486907e-01],\n",
       "       [-3.60860906e-01,  7.25464473e-01],\n",
       "       [-1.37615212e+00, -1.12853327e+00],\n",
       "       [-1.06323531e+00, -7.22971264e-01],\n",
       "       [ 2.62535593e+00,  1.44968234e+00],\n",
       "       [-7.63825710e-01, -7.22971264e-01],\n",
       "       [-7.06420109e-01, -7.22971264e-01],\n",
       "       [-1.21108103e-01,  7.25464473e-01],\n",
       "       [-7.93091310e-01, -7.15729086e-01],\n",
       "       [-7.63825710e-01, -7.22971264e-01],\n",
       "       [-3.81121706e-01, -3.60862330e-01],\n",
       "       [ 8.37510993e-02,  7.25464473e-01],\n",
       "       [-3.73242506e-01,  1.67816714e-01],\n",
       "       [ 7.65864707e-01,  2.98175931e-01],\n",
       "       [ 2.13234312e+00,  1.24660453e-03],\n",
       "       [ 5.04725504e-01, -7.01244728e-01],\n",
       "       [-7.90840110e-01, -5.56401155e-01],\n",
       "       [ 1.15644791e+00, -7.22971264e-01],\n",
       "       [ 6.87072706e-01,  1.56555720e+00],\n",
       "       [ 3.21291913e+00,  4.34655382e+00],\n",
       "       [-7.33434510e-01, -3.60862330e-01],\n",
       "       [ 9.43709509e-01,  2.53600915e+00],\n",
       "       [-7.75081710e-01, -1.37476735e+00],\n",
       "       [ 9.41458309e-01,  1.24660453e-03],\n",
       "       [-9.22535312e-01, -1.08508020e+00],\n",
       "       [-1.35589132e+00, -1.12853327e+00],\n",
       "       [ 1.16545271e+00,  6.64262127e-02],\n",
       "       [-8.58376111e-01, -5.78127691e-01],\n",
       "       [-7.16550509e-01,  3.48871182e-01],\n",
       "       [-1.26134092e+00, -7.80908694e-01],\n",
       "       [-4.28396906e-01,  1.24660453e-03],\n",
       "       [-7.16550509e-01, -1.02714277e+00],\n",
       "       [-3.95754506e-01, -3.60862330e-01],\n",
       "       [-1.09137531e+00, -7.22971264e-01],\n",
       "       [ 7.47462992e-02,  1.24660453e-03],\n",
       "       [-7.32308910e-01, -2.01534399e-01],\n",
       "       [ 2.62721501e-01, -8.56595397e-02],\n",
       "       [ 4.75459904e-01, -7.22971264e-01],\n",
       "       [-4.61039307e-01,  1.24660453e-03],\n",
       "       [-9.20284112e-01,  2.83691573e-01],\n",
       "       [-1.01483451e+00, -1.10680673e+00],\n",
       "       [-4.79048907e-01,  1.24660453e-03],\n",
       "       [-1.09362651e+00, -1.26613467e+00],\n",
       "       [-8.08849711e-01, -1.44718913e+00],\n",
       "       [ 1.46823911e+00, -1.32407210e+00],\n",
       "       [ 1.80591912e+00,  1.21069045e+00],\n",
       "       [ 1.04051111e+00,  2.11596278e+00],\n",
       "       [ 8.32275107e-01, -7.22971264e-01],\n",
       "       [ 3.24629502e-01, -7.22971264e-01],\n",
       "       [-2.21286504e-01, -9.04025732e-01],\n",
       "       [-1.13228903e-01,  1.24660453e-03]])"
      ]
     },
     "execution_count": 33,
     "metadata": {},
     "output_type": "execute_result"
    }
   ],
   "source": [
    "st_scale=scale.fit_transform(x)\n",
    "st_scale"
   ]
  },
  {
   "cell_type": "markdown",
   "id": "98ee6799",
   "metadata": {},
   "source": [
    "# normalization"
   ]
  },
  {
   "cell_type": "code",
   "execution_count": 34,
   "id": "e2168fce",
   "metadata": {},
   "outputs": [],
   "source": [
    "from sklearn.preprocessing import MinMaxScaler"
   ]
  },
  {
   "cell_type": "code",
   "execution_count": 35,
   "id": "e2aefac8",
   "metadata": {},
   "outputs": [],
   "source": [
    "min_max=MinMaxScaler(feature_range=(0,1))"
   ]
  },
  {
   "cell_type": "code",
   "execution_count": 36,
   "id": "7d04d56d",
   "metadata": {},
   "outputs": [
    {
     "data": {
      "text/plain": [
       "array([[0.29157939, 0.00111111],\n",
       "       [0.1522832 , 0.07333333],\n",
       "       [0.3757855 , 0.27777778],\n",
       "       [0.43171345, 0.25666667],\n",
       "       [0.45077503, 0.29      ],\n",
       "       [0.46543779, 0.41222222],\n",
       "       [0.11939673, 0.11111111],\n",
       "       [0.49874319, 0.23555556],\n",
       "       [0.25073314, 0.10666667],\n",
       "       [0.24528697, 0.24777778],\n",
       "       [0.15081693, 0.07888889],\n",
       "       [0.67427734, 0.44444444],\n",
       "       [0.25869292, 0.06333333],\n",
       "       [0.32174277, 0.22222222],\n",
       "       [0.24633431, 0.22444444],\n",
       "       [0.38772518, 0.32444444],\n",
       "       [0.15207373, 0.07444444],\n",
       "       [0.27691663, 0.30111111],\n",
       "       [0.29116045, 0.27777778],\n",
       "       [0.36824466, 0.26111111],\n",
       "       [0.31105991, 0.34222222],\n",
       "       [0.36070381, 0.19444444],\n",
       "       [0.2660243 , 0.13666667],\n",
       "       [0.761416  , 0.73111111],\n",
       "       [0.35085882, 0.24222222],\n",
       "       [0.30875576, 0.14888889],\n",
       "       [0.21575199, 0.11111111],\n",
       "       [0.20150817, 0.11111111],\n",
       "       [0.39023879, 0.36666667],\n",
       "       [0.34729786, 0.22222222],\n",
       "       [0.13573523, 0.05      ],\n",
       "       [0.32006703, 0.16666667],\n",
       "       [0.25115207, 0.22222222],\n",
       "       [0.36908253, 0.16111111],\n",
       "       [0.30812736, 0.25222222],\n",
       "       [0.43967323, 0.28888889],\n",
       "       [0.27733557, 0.11111111],\n",
       "       [0.29032258, 0.23      ],\n",
       "       [0.32718894, 0.14555556],\n",
       "       [0.59069962, 0.44444444],\n",
       "       [0.27167993, 0.13777778],\n",
       "       [0.30142438, 0.17111111],\n",
       "       [0.22769166, 0.22888889],\n",
       "       [0.13845832, 0.03555556],\n",
       "       [0.57247591, 0.51111111],\n",
       "       [0.31881022, 0.22222222],\n",
       "       [0.40134059, 0.44444444],\n",
       "       [0.6143695 , 0.55555556],\n",
       "       [0.53372434, 0.11666667],\n",
       "       [0.31357352, 0.22222222],\n",
       "       [0.19836615, 0.16666667],\n",
       "       [0.15123586, 0.17777778],\n",
       "       [0.66485128, 0.46666667],\n",
       "       [0.14390448, 0.06222222],\n",
       "       [0.47109342, 0.37111111],\n",
       "       [0.34394638, 0.27888889],\n",
       "       [0.73188102, 0.22222222],\n",
       "       [0.4888982 , 0.05555556],\n",
       "       [0.17113532, 0.08444444],\n",
       "       [0.94679514, 0.63666667],\n",
       "       [0.36070381, 0.24555556],\n",
       "       [0.22496858, 0.11111111],\n",
       "       [0.16652702, 0.10888889],\n",
       "       [0.31881022, 0.30666667],\n",
       "       [0.30414747, 0.18222222],\n",
       "       [0.35630499, 0.23888889],\n",
       "       [0.28026812, 0.16333333],\n",
       "       [0.        , 0.        ],\n",
       "       [0.359447  , 0.11222222],\n",
       "       [0.25010473, 0.12111111],\n",
       "       [0.18747382, 0.10777778],\n",
       "       [0.29325513, 0.22222222],\n",
       "       [0.49832426, 0.23777778],\n",
       "       [0.46522832, 0.44444444],\n",
       "       [0.24423963, 0.13333333],\n",
       "       [0.15584416, 0.02777778],\n",
       "       [0.31105991, 0.23111111],\n",
       "       [0.50544617, 0.33333333],\n",
       "       [0.4124424 , 0.22222222],\n",
       "       [0.29786343, 0.19      ],\n",
       "       [0.34289904, 0.22222222],\n",
       "       [0.28466695, 0.26666667],\n",
       "       [0.14662757, 0.09222222],\n",
       "       [0.6202346 , 0.44444444],\n",
       "       [0.27042313, 0.11444444],\n",
       "       [0.66527021, 0.46333333],\n",
       "       [0.20863008, 0.11111111],\n",
       "       [0.31860075, 0.33333333],\n",
       "       [0.45328865, 0.53888889],\n",
       "       [0.37892752, 0.22222222],\n",
       "       [0.54252199, 0.22222222],\n",
       "       [0.40678676, 0.27777778],\n",
       "       [0.05613741, 0.        ],\n",
       "       [0.27754504, 0.36666667],\n",
       "       [0.41223293, 0.25      ],\n",
       "       [0.7771261 , 0.41444444],\n",
       "       [0.50712191, 0.33333333],\n",
       "       [0.18768328, 0.05555556],\n",
       "       [0.3757855 , 0.22222222],\n",
       "       [0.19669041, 0.05555556],\n",
       "       [0.17343946, 0.16666667],\n",
       "       [0.25785505, 0.22222222],\n",
       "       [0.86363636, 0.16666667],\n",
       "       [0.40532049, 0.27555556],\n",
       "       [0.37390029, 0.34222222],\n",
       "       [0.25743611, 0.07111111],\n",
       "       [0.36489317, 0.34      ],\n",
       "       [0.46376204, 0.36555556],\n",
       "       [0.31776288, 0.30666667],\n",
       "       [0.23544198, 0.33333333],\n",
       "       [0.22894847, 0.22222222],\n",
       "       [0.0875576 , 0.        ],\n",
       "       [0.73313783, 0.33333333],\n",
       "       [0.43736908, 0.17222222],\n",
       "       [0.47423544, 0.33333333],\n",
       "       [0.29828236, 0.27777778],\n",
       "       [0.56263092, 0.45222222],\n",
       "       [0.15877671, 0.05555556],\n",
       "       [0.196062  , 0.08888889],\n",
       "       [0.44009217, 0.21333333],\n",
       "       [0.18056137, 0.14555556],\n",
       "       [0.21679933, 0.07555556],\n",
       "       [0.23439464, 0.16666667],\n",
       "       [0.26979472, 0.11111111],\n",
       "       [0.19710934, 0.16888889],\n",
       "       [0.55990783, 0.35555556],\n",
       "       [0.11416003, 0.05333333],\n",
       "       [0.2398408 , 0.11111111],\n",
       "       [0.17406787, 0.11111111],\n",
       "       [0.4136992 , 0.13111111],\n",
       "       [0.33535819, 0.05555556],\n",
       "       [0.36028488, 0.20333333],\n",
       "       [0.16966904, 0.05555556],\n",
       "       [0.19250105, 0.11111111],\n",
       "       [0.31818182, 0.25      ],\n",
       "       [0.11395057, 0.02777778],\n",
       "       [0.15207373, 0.11111111],\n",
       "       [0.23209049, 0.11111111],\n",
       "       [0.27084206, 0.11111111],\n",
       "       [0.21135316, 0.19444444],\n",
       "       [0.30163385, 0.27777778],\n",
       "       [0.65416841, 0.63333333],\n",
       "       [0.79849183, 0.44444444],\n",
       "       [0.50230415, 0.44444444],\n",
       "       [0.27984918, 0.14444444],\n",
       "       [0.11059908, 0.05555556],\n",
       "       [0.3261416 , 0.04      ],\n",
       "       [0.1843318 , 0.07      ],\n",
       "       [0.140553  , 0.08111111],\n",
       "       [0.09300377, 0.11111111],\n",
       "       [0.23041475, 0.16666667],\n",
       "       [0.21072476, 0.11111111],\n",
       "       [0.29723502, 0.19333333],\n",
       "       [0.44993716, 0.11111111],\n",
       "       [0.34981148, 0.11111111],\n",
       "       [0.56095517, 0.46      ],\n",
       "       [0.94470046, 0.44444444],\n",
       "       [0.45936322, 0.30555556],\n",
       "       [0.21617093, 0.17888889],\n",
       "       [0.28110599, 0.11111111],\n",
       "       [0.38604943, 0.27777778],\n",
       "       [0.20087977, 0.16666667],\n",
       "       [0.27524089, 0.11111111],\n",
       "       [0.22496858, 0.11111111],\n",
       "       [0.30247172, 0.22222222],\n",
       "       [0.44930876, 0.27555556],\n",
       "       [0.37054881, 0.13777778],\n",
       "       [0.59991621, 0.38888889],\n",
       "       [0.1575199 , 0.06777778],\n",
       "       [0.15835777, 0.11111111],\n",
       "       [1.        , 1.        ],\n",
       "       [0.26686217, 0.24      ],\n",
       "       [0.0875576 , 0.46111111],\n",
       "       [0.60284876, 0.24222222],\n",
       "       [0.28801843, 0.33333333],\n",
       "       [0.6248429 , 0.23444444],\n",
       "       [0.3104315 , 0.11111111],\n",
       "       [0.23900293, 0.11111111],\n",
       "       [0.13678257, 0.33333333],\n",
       "       [0.66108085, 0.28333333],\n",
       "       [0.66149979, 0.29777778],\n",
       "       [0.42438207, 0.51666667],\n",
       "       [0.8856305 , 0.27777778],\n",
       "       [0.42103058, 0.61111111],\n",
       "       [0.78508588, 0.22222222],\n",
       "       [0.36908253, 0.44444444],\n",
       "       [0.37348136, 0.27777778],\n",
       "       [0.57373272, 0.11111111],\n",
       "       [0.31587767, 0.27777778],\n",
       "       [0.41956431, 0.33333333],\n",
       "       [0.26434855, 0.05555556],\n",
       "       [0.35064935, 0.35444444],\n",
       "       [0.53142019, 0.17333333],\n",
       "       [0.25994973, 0.11333333],\n",
       "       [0.2829912 , 0.33333333],\n",
       "       [0.09405111, 0.04888889],\n",
       "       [0.1522832 , 0.11111111],\n",
       "       [0.83870968, 0.44444444],\n",
       "       [0.20800168, 0.11111111],\n",
       "       [0.21868454, 0.11111111],\n",
       "       [0.32760788, 0.33333333],\n",
       "       [0.20255551, 0.11222222],\n",
       "       [0.20800168, 0.11111111],\n",
       "       [0.27922078, 0.16666667],\n",
       "       [0.36573104, 0.33333333],\n",
       "       [0.28068705, 0.24777778],\n",
       "       [0.49266862, 0.26777778],\n",
       "       [0.74696271, 0.22222222],\n",
       "       [0.44407206, 0.11444444],\n",
       "       [0.20297444, 0.13666667],\n",
       "       [0.565354  , 0.11111111],\n",
       "       [0.47800587, 0.46222222],\n",
       "       [0.94805195, 0.88888889],\n",
       "       [0.21365731, 0.16666667],\n",
       "       [0.52576456, 0.61111111],\n",
       "       [0.205907  , 0.01111111],\n",
       "       [0.52534562, 0.22222222],\n",
       "       [0.17846669, 0.05555556],\n",
       "       [0.09782153, 0.04888889],\n",
       "       [0.56702974, 0.23222222],\n",
       "       [0.19040637, 0.13333333],\n",
       "       [0.21679933, 0.27555556],\n",
       "       [0.11541684, 0.10222222],\n",
       "       [0.27042313, 0.22222222],\n",
       "       [0.21679933, 0.06444444],\n",
       "       [0.2764977 , 0.16666667],\n",
       "       [0.1470465 , 0.11111111],\n",
       "       [0.3640553 , 0.22222222],\n",
       "       [0.21386678, 0.19111111],\n",
       "       [0.39903645, 0.20888889],\n",
       "       [0.43862589, 0.11111111],\n",
       "       [0.26434855, 0.22222222],\n",
       "       [0.17888563, 0.26555556],\n",
       "       [0.16129032, 0.05222222],\n",
       "       [0.26099707, 0.22222222],\n",
       "       [0.14662757, 0.02777778],\n",
       "       [0.19962296, 0.        ],\n",
       "       [0.62337662, 0.01888889],\n",
       "       [0.68621701, 0.40777778],\n",
       "       [0.5437788 , 0.54666667],\n",
       "       [0.50502723, 0.11111111],\n",
       "       [0.41055718, 0.11111111],\n",
       "       [0.30896523, 0.08333333],\n",
       "       [0.32907415, 0.22222222]])"
      ]
     },
     "execution_count": 36,
     "metadata": {},
     "output_type": "execute_result"
    }
   ],
   "source": [
    "norm=min_max.fit_transform(x)\n",
    "\n",
    "norm"
   ]
  },
  {
   "cell_type": "markdown",
   "id": "5827183d",
   "metadata": {},
   "source": [
    "# population and sample"
   ]
  },
  {
   "cell_type": "code",
   "execution_count": 37,
   "id": "bf0ddb46",
   "metadata": {},
   "outputs": [],
   "source": [
    "#generate the population data following from ND\n",
    "N=10000\n",
    "mu=10\n",
    "std=2"
   ]
  },
  {
   "cell_type": "code",
   "execution_count": 40,
   "id": "aa4f1be9",
   "metadata": {},
   "outputs": [
    {
     "data": {
      "text/plain": [
       "array([ 9.23277232, 10.15903433, 11.46532538, ...,  8.20479296,\n",
       "        9.97950457, 11.24628877])"
      ]
     },
     "execution_count": 40,
     "metadata": {},
     "output_type": "execute_result"
    }
   ],
   "source": [
    "population_df=np.random.normal(mu,std,N)\n",
    "\n",
    "population_df"
   ]
  },
  {
   "cell_type": "code",
   "execution_count": 39,
   "id": "cc049e68",
   "metadata": {},
   "outputs": [
    {
     "data": {
      "text/plain": [
       "<seaborn.axisgrid.FacetGrid at 0xca1ff88>"
      ]
     },
     "execution_count": 39,
     "metadata": {},
     "output_type": "execute_result"
    },
    {
     "data": {
      "image/png": "[encoded data removed]",
      "text/plain": [
       "<Figure size 360x360 with 1 Axes>"
      ]
     },
     "metadata": {
      "needs_background": "light"
     },
     "output_type": "display_data"
    }
   ],
   "source": [
    "sns.displot(population_df)"
   ]
  },
  {
   "cell_type": "code",
   "execution_count": null,
   "id": "c717845d",
   "metadata": {},
   "outputs": [],
   "source": []
  },
  {
   "cell_type": "code",
   "execution_count": null,
   "id": "b82324c5",
   "metadata": {},
   "outputs": [],
   "source": []
  },
  {
   "cell_type": "code",
   "execution_count": null,
   "id": "52f4c14b",
   "metadata": {},
   "outputs": [],
   "source": []
  },
  {
   "cell_type": "code",
   "execution_count": null,
   "id": "9ef4136a",
   "metadata": {},
   "outputs": [],
   "source": []
  },
  {
   "cell_type": "code",
   "execution_count": null,
   "id": "b0de8f25",
   "metadata": {},
   "outputs": [],
   "source": []
  },
  {
   "cell_type": "code",
   "execution_count": null,
   "id": "c0ebb00c",
   "metadata": {},
   "outputs": [],
   "source": []
  },
  {
   "cell_type": "code",
   "execution_count": null,
   "id": "642b8530",
   "metadata": {},
   "outputs": [],
   "source": []
  },
  {
   "cell_type": "code",
   "execution_count": null,
   "id": "1ed16258",
   "metadata": {},
   "outputs": [],
   "source": []
  }
 ],
 "metadata": {
  "kernelspec": {
   "display_name": "Python 3",
   "language": "python",
   "name": "python3"
  },
  "language_info": {
   "codemirror_mode": {
    "name": "ipython",
    "version": 3
   },
   "file_extension": ".py",
   "mimetype": "text/x-python",
   "name": "python",
   "nbconvert_exporter": "python",
   "pygments_lexer": "ipython3",
   "version": "3.8.8"
  }
 },
 "nbformat": 4,
 "nbformat_minor": 5
}
